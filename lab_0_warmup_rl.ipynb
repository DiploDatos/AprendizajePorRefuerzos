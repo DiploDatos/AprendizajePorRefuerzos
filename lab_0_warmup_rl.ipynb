{
 "cells": [
  {
   "cell_type": "markdown",
   "metadata": {},
   "source": [
    "# Notebook 0: Ejercicios de introducción en papel\n",
    "\n",
    "Curso Aprendizaje por Refuerzos, Diplomatura en Ciencia de Datos, Aprendizaje Automático y sus Aplicaciones\n",
    "\n",
    "FaMAF, 2023"
   ]
  },
  {
   "cell_type": "markdown",
   "metadata": {},
   "source": [
    "Dado el siguiente entorno*,\n",
    "\n",
    "![water_environment](images/warmup_environment.png)"
   ]
  },
  {
   "cell_type": "markdown",
   "metadata": {},
   "source": [
    "\\* entorno de ejemplo y preguntas basadas en curso de Aprendizaje Profundo por Refuerzos, dictado por Juan Gómez Romero en la Escuela de Ciencias Informáticas 2019 - UBA"
   ]
  },
  {
   "cell_type": "markdown",
   "metadata": {},
   "source": [
    "## Responder:\n",
    "\n",
    "1. ¿Cuál sería la política óptima? (comenzando desde el estado I)\n",
    "\n",
    "2. ¿Cuál sería el valor de $v(D)$ bajo la Política 1 (asumiendo $\\gamma=1$)?\n",
    "    \n",
    "    Política 1: El agente elige la primera acción posible de la siguiente lista: \\[Derecha, Arriba, Izquierda, Abajo]\n",
    "\n",
    "3. ¿Cuál sería el valor de $q(B, \\downarrow)$ bajo la Política 1, asumiendo $\\gamma=1$?\n",
    "\n",
    "4. ¿Cuál sería el retorno acumulado $G_t$ de un agente que, de acuerdo a su política de actuación (distinta a la Política 1), realiza el recorrido \n",
    "\n",
    "    \\[D, E, B, C\\] desde $S_t = D$, asumiendo $\\gamma=0.1$?"
   ]
  },
  {
   "cell_type": "markdown",
   "metadata": {},
   "source": [
    "FIN"
   ]
  }
 ],
 "metadata": {
  "kernelspec": {
   "display_name": "Python 3",
   "language": "python",
   "name": "python3"
  },
  "language_info": {
   "codemirror_mode": {
    "name": "ipython",
    "version": 3
   },
   "file_extension": ".py",
   "mimetype": "text/x-python",
   "name": "python",
   "nbconvert_exporter": "python",
   "pygments_lexer": "ipython3",
   "version": "3.8.8"
  }
 },
 "nbformat": 4,
 "nbformat_minor": 4
}
